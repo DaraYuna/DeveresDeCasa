{
  "cells": [
    {
      "cell_type": "markdown",
      "metadata": {
        "id": "view-in-github",
        "colab_type": "text"
      },
      "source": [
        "<a href=\"https://colab.research.google.com/github/DaraYuna/DeveresDeCasa/blob/main/Dever-05.ipynb\" target=\"_parent\"><img src=\"https://colab.research.google.com/assets/colab-badge.svg\" alt=\"Open In Colab\"/></a>"
      ]
    },
    {
      "cell_type": "code",
      "source": [
        "import numpy as np\n",
        "\n",
        "# 1. Implementação do Merge Sort\n",
        "def merge_sort(arr):\n",
        "    if len(arr) <= 1:\n",
        "        return arr\n",
        "    mid = len(arr) // 2\n",
        "    left = merge_sort(arr[:mid])\n",
        "    right = merge_sort(arr[mid:])\n",
        "    return merge(left, right)\n",
        "\n",
        "def merge(left, right):\n",
        "    result = []\n",
        "    i = j = 0\n",
        "    while i < len(left) and j < len(right):\n",
        "        if left[i] < right[j]:\n",
        "            result.append(left[i])\n",
        "            i += 1\n",
        "        else:\n",
        "            result.append(right[j])\n",
        "            j += 1\n",
        "    result.extend(left[i:])\n",
        "    result.extend(right[j:])\n",
        "    return result\n",
        "\n",
        "# 2. Multiplicação de Matrizes\n",
        "def multiply_matrices(A, B):\n",
        "    return np.dot(A, B)  # Usa NumPy para multiplicação eficiente\n",
        "\n",
        "# 3. Resolução das recorrências por simulação\n",
        "def recurrence1(n):\n",
        "    if n <= 1:\n",
        "        return 1\n",
        "    return 2 * recurrence1(n // 4) + n ** 0.5\n",
        "\n",
        "def recurrence2(n):\n",
        "    if n <= 1:\n",
        "        return 1\n",
        "    return 2 * recurrence2(n // 4) + n\n",
        "\n",
        "def recurrence3(n):\n",
        "    if n <= 1:\n",
        "        return 1\n",
        "    return 16 * recurrence3(n // 4) + n ** 2\n",
        "\n",
        "# Testando as funções\n",
        "if __name__ == \"__main__\":\n",
        "    arr = [38, 27, 43, 3, 9, 82, 10]\n",
        "    print(\"Merge Sort:\", merge_sort(arr))\n",
        "\n",
        "    A = np.array([[1, 2], [3, 4]])\n",
        "    B = np.array([[5, 6], [7, 8]])\n",
        "    print(\"Multiplicação de Matrizes:\\n\", multiply_matrices(A, B))\n",
        "\n",
        "    n = 16\n",
        "    print(\"Recorrência 1:\", recurrence1(n))\n",
        "    print(\"Recorrência 2:\", recurrence2(n))\n",
        "    print(\"Recorrência 3:\", recurrence3(n))\n"
      ],
      "metadata": {
        "id": "PbGWnGVo585I"
      },
      "execution_count": null,
      "outputs": []
    }
  ],
  "metadata": {
    "colab": {
      "provenance": [],
      "toc_visible": true,
      "include_colab_link": true
    },
    "kernelspec": {
      "display_name": "Python 3",
      "name": "python3"
    }
  },
  "nbformat": 4,
  "nbformat_minor": 0
}