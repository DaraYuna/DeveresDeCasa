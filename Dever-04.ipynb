{
  "cells": [
    {
      "cell_type": "markdown",
      "metadata": {
        "id": "view-in-github",
        "colab_type": "text"
      },
      "source": [
        "<a href=\"https://colab.research.google.com/github/DaraYuna/DeveresDeCasa/blob/main/Dever-04.ipynb\" target=\"_parent\"><img src=\"https://colab.research.google.com/assets/colab-badge.svg\" alt=\"Open In Colab\"/></a>"
      ]
    },
    {
      "cell_type": "code",
      "source": [
        "import math\n",
        "\n",
        "def F_recursive(n):\n",
        "    if n == 1:\n",
        "        return 2\n",
        "    return 2 * F_recursive(n - 1) + n ** 2\n",
        "\n",
        "def F_closed_formula(n):\n",
        "    return (2 ** n) + sum(2 ** (n - k) * k ** 2 for k in range(1, n + 1))\n",
        "\n",
        "def main():\n",
        "    n = int(input(\"Digite um valor de n: \"))\n",
        "    print(f\"Resultado (Recursivo): {F_recursive(n)}\")\n",
        "    print(f\"Resultado (Fórmula fechada): {F_closed_formula(n)}\")\n",
        "\n",
        "if __name__ == \"__main__\":\n",
        "    main()\n"
      ],
      "metadata": {
        "id": "PbGWnGVo585I"
      },
      "execution_count": null,
      "outputs": []
    }
  ],
  "metadata": {
    "colab": {
      "provenance": [],
      "include_colab_link": true
    },
    "kernelspec": {
      "display_name": "Python 3",
      "name": "python3"
    }
  },
  "nbformat": 4,
  "nbformat_minor": 0
}