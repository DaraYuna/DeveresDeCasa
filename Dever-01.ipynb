{
  "cells": [
    {
      "cell_type": "markdown",
      "metadata": {
        "id": "view-in-github",
        "colab_type": "text"
      },
      "source": [
        "<a href=\"https://colab.research.google.com/github/DaraYuna/DeveresDeCasa/blob/main/Dever-01.ipynb\" target=\"_parent\"><img src=\"https://colab.research.google.com/assets/colab-badge.svg\" alt=\"Open In Colab\"/></a>"
      ]
    },
    {
      "cell_type": "code",
      "source": [
        "!/usr/share/locales/install-language-pack pt_BR\n",
        "!dpkg-reconfigure locales pt_BR"
      ],
      "metadata": {
        "id": "XylAdi_eSOA7",
        "outputId": "07a1b59d-041d-49db-8eab-30f11ac2d12a",
        "colab": {
          "base_uri": "https://localhost:8080/"
        }
      },
      "execution_count": 10,
      "outputs": [
        {
          "output_type": "stream",
          "name": "stdout",
          "text": [
            "Generating locales (this might take a while)...\n",
            "  pt_BR.ISO-8859-1... done\n",
            "Generation complete.\n",
            "\u001b[1mdpkg-trigger:\u001b[0m \u001b[1;31merror:\u001b[0m must be called from a maintainer script (or with a --by-package option)\n",
            "\n",
            "Type dpkg-trigger --help for help about this utility.\n",
            "Generating locales (this might take a while)...\n",
            "  en_US.UTF-8... done\n",
            "  pt_BR.ISO-8859-1... done\n",
            "  pt_BR.UTF-8... done\n",
            "Generation complete.\n",
            "dpkg-query: package 'pt_br' is not installed and no information is available\n",
            "Use dpkg --info (= dpkg-deb --info) to examine archive files.\n",
            "/usr/sbin/dpkg-reconfigure: pt_BR is not installed\n"
          ]
        }
      ]
    },
    {
      "cell_type": "code",
      "source": [
        "!rm /etc/localtime\n",
        "!ln -s /usr/share/zoneinfo/America/Sao_Paulo /etc/localtime\n",
        "!date"
      ],
      "metadata": {
        "id": "0M0VT5lbSkpr",
        "outputId": "fc84c490-4805-42d2-a3c6-b79db4877c39",
        "colab": {
          "base_uri": "https://localhost:8080/"
        }
      },
      "execution_count": 7,
      "outputs": [
        {
          "output_type": "stream",
          "name": "stdout",
          "text": [
            "Sat Mar  1 12:18:54 PM -03 2025\n"
          ]
        }
      ]
    },
    {
      "cell_type": "code",
      "source": [
        "import pytz\n",
        "from datetime import datetime\n",
        "\n",
        "# Define o fuso horário para São Paulo\n",
        "fuso_horario_brasilia = pytz.timezone(\"America/Sao_Paulo\")\n",
        "\n",
        "# Obtendo a hora atual no fuso correto\n",
        "agora = datetime.now(fuso_horario_brasilia)\n",
        "print(\"Data e hora no fuso de Brasília:\", agora.strftime(\"%d/%m/%Y - %H:%M:%S\"))\n"
      ],
      "metadata": {
        "id": "50hXwQ_wSdVL",
        "outputId": "57b060e0-de10-4e9f-de16-52675abe116b",
        "colab": {
          "base_uri": "https://localhost:8080/"
        }
      },
      "execution_count": 6,
      "outputs": [
        {
          "output_type": "stream",
          "name": "stdout",
          "text": [
            "Data e hora no fuso de Brasília: 01/03/2025 - 12:18:23\n"
          ]
        }
      ]
    },
    {
      "cell_type": "code",
      "source": [
        "# Formatar um número com separadores de milhar no padrão brasileiro\n",
        "numero = 1000000\n",
        "print(locale.format_string(\"%d\", numero, grouping=True))  # Saída esperada: '1.000.000'\n",
        "\n",
        "# Formatar uma data\n",
        "print(agora.strftime(\"%d/%m/%Y - %H:%M:%S\"))"
      ],
      "metadata": {
        "id": "CPTpF4pNS9Iz",
        "outputId": "96484da6-28e5-4aa7-d756-1f5ac2754420",
        "colab": {
          "base_uri": "https://localhost:8080/"
        }
      },
      "execution_count": 8,
      "outputs": [
        {
          "output_type": "stream",
          "name": "stdout",
          "text": [
            "1000000\n",
            "01/03/2025 - 12:18:23\n"
          ]
        }
      ]
    },
    {
      "source": [
        "import random\n",
        "import time\n",
        "\n",
        "def quick_sort(arr):\n",
        "    if len(arr) <= 1:\n",
        "        return arr\n",
        "    else:\n",
        "        pivot = arr[len(arr) // 2]  # Escolhendo o pivô no meio do array\n",
        "        left = [x for x in arr if x < pivot]  # Elementos menores que o pivô\n",
        "        middle = [x for x in arr if x == pivot]  # Elementos iguais ao pivô\n",
        "        right = [x for x in arr if x > pivot]  # Elementos maiores que o pivô\n",
        "        return quick_sort(left) + middle + quick_sort(right)\n",
        "\n",
        "def measure_time(size):\n",
        "\n",
        "   # Função para medir o tempo de execução do Quick Sort para um determinado tamanho de entrada.\n",
        "\n",
        "    arr = [random.randint(0, 1000000) for _ in range(size)]  # Gerando lista aleatória\n",
        "    start_time = time.time()  # Iniciando a contagem do tempo\n",
        "    quick_sort(arr)\n",
        "    end_time = time.time()  # Finalizando a contagem do tempo\n",
        "\n",
        "    print(f\"Tamanho da entrada: {size} - Tempo de execução: {end_time - start_time:.6f} segundos\")\n",
        "\n",
        "# Diferentes tamanhos de entrada\n",
        "test_sizes = [100, 1000, 10000, 100000]\n",
        "for size in test_sizes:\n",
        "    measure_time(size)"
      ],
      "cell_type": "code",
      "metadata": {
        "id": "PldI26xfQ2DD",
        "outputId": "3ba9cc2b-1daa-4a15-c5be-ae0170c0d741",
        "colab": {
          "base_uri": "https://localhost:8080/"
        }
      },
      "execution_count": 15,
      "outputs": [
        {
          "output_type": "stream",
          "name": "stdout",
          "text": [
            "Tamanho da entrada: 100 - Tempo de execução: 0.000160 segundos\n",
            "Tamanho da entrada: 1000 - Tempo de execução: 0.001731 segundos\n",
            "Tamanho da entrada: 10000 - Tempo de execução: 0.024074 segundos\n",
            "Tamanho da entrada: 100000 - Tempo de execução: 0.290768 segundos\n"
          ]
        }
      ]
    }
  ],
  "metadata": {
    "colab": {
      "name": "Olá, este é o Colaboratory",
      "toc_visible": true,
      "provenance": [],
      "include_colab_link": true
    },
    "kernelspec": {
      "display_name": "Python 3",
      "name": "python3"
    }
  },
  "nbformat": 4,
  "nbformat_minor": 0
}